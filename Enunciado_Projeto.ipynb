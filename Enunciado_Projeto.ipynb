{
 "cells": [
  {
   "cell_type": "markdown",
   "metadata": {},
   "source": [
    "# Projeto Final de Técnicas de Programação"
   ]
  },
  {
   "cell_type": "markdown",
   "metadata": {},
   "source": [
    "- Os alunos devem escolher uma base central que será utilizada no projeto;\n",
    "- A base utilizada deve estar publicada no github;\n",
    "- Deve ser feito uma associação a outra base que complemente essas informações\n",
    "- A base deve passar por processamento de dados para a disponibilização final\n",
    "- Recomenda-se que o projeto apresente no final alguma visualização dos insight obtidos no processo\n",
    "- Devem ser aplicadas pelo menos duas operações usando o numpy\n",
    "\n",
    "\n",
    "- Deverá ser entregue até o dia 15/03 às 23:59.\n",
    "- Cada grupo deverá subir o projeto no github e cada integrante subir o mesmo link no LMS\n",
    "- O trabalho final deverá ser entregue no formato .ipynb incluindo código, base utilizada e comentários do processo"
   ]
  },
  {
   "cell_type": "markdown",
   "metadata": {},
   "source": [
    "## Grupos\n",
    "\n",
    "1. Jose, Mayra, Nicolas, Rafael, Renato Freitas ( )\n",
    "2. Erik Henning, Guilherme Lucke, Anderson Aguiar, Remyalisson, Junior ( [base de eleições brasileiras.](https://basedosdados.org/dataset/eef764df-bde8-4905-b115-6fc23b6ba9d6?table=823f0540-0034-40cc-aa68-bfe077e82cd2) ##Não foi possível realizar o trabalho com esta base, a API do site está com problemas, e para usar os recursos em sua totalidade precisa pagar, foi então alterado para uma base didática do Kagle: International football results from 1872 to 2024 \"https://www.kaggle.com/datasets/martj42/international-football-results-from-1872-to-2017\")\n",
    "3. Brenda, Diogo, Emanoel, Fabiano, Ramon ( )\n",
    "4. Guilherme Rocha, Pedro Marques, Simone Eline ( [Animes](https://www.kaggle.com/datasets/arnavvvvv/anime-dataset/data?select=reviews.csv))\n",
    "5. Dennis, Ricardo, Guilherme Varela, Neto, João Paulo Macedo, Ale Brandão (https://www.kaggle.com/datasets/amanarora/obesity-among-adults-by-country-19752016, https://www.kaggle.com/datasets/iamsouravbanerjee/heart-attack-prediction-dataset, https://www.kaggle.com/datasets/meeratif/life-expection/data)"
   ]
  }
 ],
 "metadata": {
  "language_info": {
   "name": "python"
  }
 },
 "nbformat": 4,
 "nbformat_minor": 2
}
