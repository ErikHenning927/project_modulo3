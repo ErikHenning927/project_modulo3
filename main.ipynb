{
 "cells": [
  {
   "cell_type": "markdown",
   "metadata": {},
   "source": [
    "### 1. Imports"
   ]
  },
  {
   "cell_type": "code",
   "execution_count": 1,
   "metadata": {},
   "outputs": [],
   "source": [
    "import pandas as pd"
   ]
  },
  {
   "cell_type": "code",
   "execution_count": 2,
   "metadata": {},
   "outputs": [],
   "source": [
    "############### Caminho das Bases ###############\n",
    "goals_scorers = 'https://raw.githubusercontent.com/ErikHenning927/project_modulo3/main/goalscorers.csv'\n",
    "results = 'https://raw.githubusercontent.com/ErikHenning927/project_modulo3/main/results.csv'\n",
    "shootouts = 'https://raw.githubusercontent.com/ErikHenning927/project_modulo3/main/shootouts.csv'\n",
    "\n",
    "############### Lendo as Bases ###############\n",
    "\n",
    "df_goals = pd.read_csv(goals_scorers)\n",
    "df_results = pd.read_csv(results)\n",
    "df_shootouts = pd.read_csv(shootouts)"
   ]
  },
  {
   "cell_type": "markdown",
   "metadata": {},
   "source": [
    "### 2. Renomeando as colunas"
   ]
  },
  {
   "cell_type": "code",
   "execution_count": 30,
   "metadata": {},
   "outputs": [
    {
     "data": {
      "text/html": [
       "<div>\n",
       "<style scoped>\n",
       "    .dataframe tbody tr th:only-of-type {\n",
       "        vertical-align: middle;\n",
       "    }\n",
       "\n",
       "    .dataframe tbody tr th {\n",
       "        vertical-align: top;\n",
       "    }\n",
       "\n",
       "    .dataframe thead th {\n",
       "        text-align: right;\n",
       "    }\n",
       "</style>\n",
       "<table border=\"1\" class=\"dataframe\">\n",
       "  <thead>\n",
       "    <tr style=\"text-align: right;\">\n",
       "      <th></th>\n",
       "      <th>Data</th>\n",
       "      <th>Time_casa</th>\n",
       "      <th>Time_visitante</th>\n",
       "      <th>Vencedor</th>\n",
       "      <th>first_shooter</th>\n",
       "    </tr>\n",
       "  </thead>\n",
       "  <tbody>\n",
       "    <tr>\n",
       "      <th>0</th>\n",
       "      <td>1967-08-22</td>\n",
       "      <td>India</td>\n",
       "      <td>Taiwan</td>\n",
       "      <td>Taiwan</td>\n",
       "      <td>NaN</td>\n",
       "    </tr>\n",
       "    <tr>\n",
       "      <th>1</th>\n",
       "      <td>1971-11-14</td>\n",
       "      <td>South Korea</td>\n",
       "      <td>Vietnam Republic</td>\n",
       "      <td>South Korea</td>\n",
       "      <td>NaN</td>\n",
       "    </tr>\n",
       "    <tr>\n",
       "      <th>2</th>\n",
       "      <td>1972-05-07</td>\n",
       "      <td>South Korea</td>\n",
       "      <td>Iraq</td>\n",
       "      <td>Iraq</td>\n",
       "      <td>NaN</td>\n",
       "    </tr>\n",
       "    <tr>\n",
       "      <th>3</th>\n",
       "      <td>1972-05-17</td>\n",
       "      <td>Thailand</td>\n",
       "      <td>South Korea</td>\n",
       "      <td>South Korea</td>\n",
       "      <td>NaN</td>\n",
       "    </tr>\n",
       "    <tr>\n",
       "      <th>4</th>\n",
       "      <td>1972-05-19</td>\n",
       "      <td>Thailand</td>\n",
       "      <td>Cambodia</td>\n",
       "      <td>Thailand</td>\n",
       "      <td>NaN</td>\n",
       "    </tr>\n",
       "    <tr>\n",
       "      <th>...</th>\n",
       "      <td>...</td>\n",
       "      <td>...</td>\n",
       "      <td>...</td>\n",
       "      <td>...</td>\n",
       "      <td>...</td>\n",
       "    </tr>\n",
       "    <tr>\n",
       "      <th>594</th>\n",
       "      <td>2024-01-30</td>\n",
       "      <td>Saudi Arabia</td>\n",
       "      <td>South Korea</td>\n",
       "      <td>South Korea</td>\n",
       "      <td>Saudi Arabia</td>\n",
       "    </tr>\n",
       "    <tr>\n",
       "      <th>595</th>\n",
       "      <td>2024-01-31</td>\n",
       "      <td>Iran</td>\n",
       "      <td>Syria</td>\n",
       "      <td>Iran</td>\n",
       "      <td>Iran</td>\n",
       "    </tr>\n",
       "    <tr>\n",
       "      <th>596</th>\n",
       "      <td>2024-02-03</td>\n",
       "      <td>Cape Verde</td>\n",
       "      <td>South Africa</td>\n",
       "      <td>South Africa</td>\n",
       "      <td>Cape Verde</td>\n",
       "    </tr>\n",
       "    <tr>\n",
       "      <th>597</th>\n",
       "      <td>2024-02-03</td>\n",
       "      <td>Qatar</td>\n",
       "      <td>Uzbekistan</td>\n",
       "      <td>Qatar</td>\n",
       "      <td>Uzbekistan</td>\n",
       "    </tr>\n",
       "    <tr>\n",
       "      <th>598</th>\n",
       "      <td>2024-02-07</td>\n",
       "      <td>Nigeria</td>\n",
       "      <td>South Africa</td>\n",
       "      <td>Nigeria</td>\n",
       "      <td>Nigeria</td>\n",
       "    </tr>\n",
       "  </tbody>\n",
       "</table>\n",
       "<p>599 rows × 5 columns</p>\n",
       "</div>"
      ],
      "text/plain": [
       "           Data     Time_casa    Time_visitante      Vencedor first_shooter\n",
       "0    1967-08-22         India            Taiwan        Taiwan           NaN\n",
       "1    1971-11-14   South Korea  Vietnam Republic   South Korea           NaN\n",
       "2    1972-05-07   South Korea              Iraq          Iraq           NaN\n",
       "3    1972-05-17      Thailand       South Korea   South Korea           NaN\n",
       "4    1972-05-19      Thailand          Cambodia      Thailand           NaN\n",
       "..          ...           ...               ...           ...           ...\n",
       "594  2024-01-30  Saudi Arabia       South Korea   South Korea  Saudi Arabia\n",
       "595  2024-01-31          Iran             Syria          Iran          Iran\n",
       "596  2024-02-03    Cape Verde      South Africa  South Africa    Cape Verde\n",
       "597  2024-02-03         Qatar        Uzbekistan         Qatar    Uzbekistan\n",
       "598  2024-02-07       Nigeria      South Africa       Nigeria       Nigeria\n",
       "\n",
       "[599 rows x 5 columns]"
      ]
     },
     "execution_count": 30,
     "metadata": {},
     "output_type": "execute_result"
    }
   ],
   "source": [
    "df_goals.rename(columns={\n",
    "    'date': 'data',\n",
    "    'home_team': 'time_casa',\n",
    "    'away_team': 'time_visitante',\n",
    "    'team': 'time',\n",
    "    'scorer': 'artilheiro',\n",
    "    'minute': 'minuto',\n",
    "    'own_goal': 'gol_contra',\n",
    "    'penalty': 'penalti'\n",
    "}, inplace=True)\n",
    "\n",
    "df_results.rename(columns={\n",
    "    'date': 'Data',\n",
    "    'home_team': 'Time_casa',\n",
    "    'away_team': 'Time_visitante',\n",
    "    'home_score': 'Gol_emcasa',\n",
    "    'away_score': 'Gol_fora',\n",
    "    'tournament': 'Torneio',\n",
    "    'city': 'Cidade',\n",
    "    'country': 'País',\n",
    "    'neutral': 'Neutro',\n",
    " \n",
    "}, inplace=True)\n",
    "df_shootouts.rename(columns={\n",
    "    'date': 'Data',\n",
    "    'home_team': 'Time_casa',\n",
    "    'away_team': 'Time_visitante',\n",
    "    'winner': 'Vencedor',\n",
    "   \n",
    "}, inplace=True)\n",
    "\n",
    "df_shootouts\n"
   ]
  },
  {
   "cell_type": "markdown",
   "metadata": {},
   "source": [
    "### 2. Tratamento de Dados (Conversão para tipos adequados)"
   ]
  },
  {
   "cell_type": "code",
   "execution_count": 48,
   "metadata": {},
   "outputs": [
    {
     "name": "stdout",
     "output_type": "stream",
     "text": [
      "<class 'pandas.core.frame.DataFrame'>\n",
      "Index: 44110 entries, 0 to 44109\n",
      "Data columns (total 10 columns):\n",
      " #   Column          Non-Null Count  Dtype         \n",
      "---  ------          --------------  -----         \n",
      " 0   Data            44110 non-null  datetime64[ns]\n",
      " 1   Time_casa       44110 non-null  object        \n",
      " 2   Time_visitante  44110 non-null  object        \n",
      " 3   Gol_emcasa      44110 non-null  int32         \n",
      " 4   Gol_fora        44110 non-null  int32         \n",
      " 5   Torneio         44110 non-null  object        \n",
      " 6   Cidade          44110 non-null  object        \n",
      " 7   País            44110 non-null  object        \n",
      " 8   Neutro          44110 non-null  bool          \n",
      " 9   data            44110 non-null  datetime64[ns]\n",
      "dtypes: bool(1), datetime64[ns](2), int32(2), object(5)\n",
      "memory usage: 3.1+ MB\n"
     ]
    }
   ],
   "source": [
    "#df_results['date'] = df_1['date'].dt.strftime('%d/%m/%Y')\n",
    "df_goals['data'] = pd.to_datetime(df_goals['data'], format='%d/%m/%Y')\n",
    "df_results['Data'] = pd.to_datetime(df_results['Data'])\n",
    "df_shootouts['Data'] = pd.to_datetime(df_shootouts['Data'])\n",
    "df_goals['minuto'] = df_goals['minuto'].astype(float)\n",
    "df_results['Gol_emcasa'] = df_results['Gol_emcasa'].astype(int)\n",
    "df_results['Gol_fora'] = df_results['Gol_fora'].astype(int)\n",
    "df_results.info()\n",
    "\n",
    "\n",
    "\n"
   ]
  },
  {
   "cell_type": "markdown",
   "metadata": {},
   "source": [
    "### 3. Tratamento de Dados (removendo duplicados e NaN)"
   ]
  },
  {
   "cell_type": "code",
   "execution_count": 44,
   "metadata": {},
   "outputs": [],
   "source": [
    "df_goals.dropna(inplace=True)\n",
    "df_results.dropna(inplace=True)\n",
    "df_shootouts.dropna(inplace=True)\n",
    "\n",
    "\n",
    "df_goals.drop_duplicates(inplace=True)\n",
    "df_results.drop_duplicates(inplace=True)\n",
    "df_shootouts.drop_duplicates(inplace=True)\n"
   ]
  }
 ],
 "metadata": {
  "kernelspec": {
   "display_name": "Python 3",
   "language": "python",
   "name": "python3"
  },
  "language_info": {
   "codemirror_mode": {
    "name": "ipython",
    "version": 3
   },
   "file_extension": ".py",
   "mimetype": "text/x-python",
   "name": "python",
   "nbconvert_exporter": "python",
   "pygments_lexer": "ipython3",
   "version": "3.12.2"
  }
 },
 "nbformat": 4,
 "nbformat_minor": 2
}
