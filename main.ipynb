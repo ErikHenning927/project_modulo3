{
 "cells": [
  {
   "cell_type": "markdown",
   "metadata": {},
   "source": [
    "### 1. Imports"
   ]
  },
  {
   "cell_type": "code",
   "execution_count": 129,
   "metadata": {},
   "outputs": [],
   "source": [
    "import pandas as pd\n",
    "import numpy as np\n",
    "import matplotlib.pyplot as plt"
   ]
  },
  {
   "cell_type": "code",
   "execution_count": 130,
   "metadata": {},
   "outputs": [],
   "source": [
    "############### Caminho das Bases ###############\n",
    "goals_scorers = 'https://raw.githubusercontent.com/ErikHenning927/project_modulo3/main/goalscorers.csv'\n",
    "results = 'https://raw.githubusercontent.com/ErikHenning927/project_modulo3/main/results.csv'\n",
    "shootouts = 'https://raw.githubusercontent.com/ErikHenning927/project_modulo3/main/shootouts.csv'\n",
    "\n",
    "############### Lendo as Bases ###############\n",
    "\n",
    "df_goals = pd.read_csv(goals_scorers)\n",
    "df_results = pd.read_csv(results)\n",
    "df_shootouts = pd.read_csv(shootouts)"
   ]
  },
  {
   "cell_type": "code",
   "execution_count": 131,
   "metadata": {},
   "outputs": [
    {
     "name": "stdout",
     "output_type": "stream",
     "text": [
      "Colunas do df_goals:\n",
      "Index(['date', 'home_team', 'away_team', 'team', 'scorer', 'minute',\n",
      "       'own_goal', 'penalty'],\n",
      "      dtype='object')\n",
      "\n",
      "Colunas do df_results:\n",
      "Index(['date', 'home_team', 'away_team', 'home_score', 'away_score',\n",
      "       'tournament', 'city', 'country', 'neutral'],\n",
      "      dtype='object')\n",
      "\n",
      "Colunas do df_shootouts:\n",
      "Index(['date', 'home_team', 'away_team', 'winner', 'first_shooter'], dtype='object')\n"
     ]
    }
   ],
   "source": [
    "print(\"Colunas do df_goals:\")\n",
    "print(df_goals.columns)\n",
    "\n",
    "print(\"\\nColunas do df_results:\")\n",
    "print(df_results.columns)\n",
    "\n",
    "print(\"\\nColunas do df_shootouts:\")\n",
    "print(df_shootouts.columns)"
   ]
  },
  {
   "cell_type": "markdown",
   "metadata": {},
   "source": [
    "### 2. Renomeando as colunas"
   ]
  },
  {
   "cell_type": "code",
   "execution_count": 132,
   "metadata": {},
   "outputs": [],
   "source": [
    "df_goals.rename(columns={\n",
    "    'date': 'Data',\n",
    "    'home_team': 'time_casa',\n",
    "    'away_team': 'time_visitante',\n",
    "    'team': 'Time_marcador',\n",
    "    'scorer': 'artilheiro',\n",
    "    'minute': 'minuto',\n",
    "    'own_goal': 'gol_contra',\n",
    "    'penalty': 'penalti'\n",
    "}, inplace=True)\n",
    "\n",
    "df_results.rename(columns={\n",
    "    'date': 'Data',\n",
    "    'home_team': 'Time_casa',\n",
    "    'away_team': 'Time_visitante',\n",
    "    'home_score': 'Gol_emcasa',\n",
    "    'away_score': 'Gol_fora',\n",
    "    'tournament': 'Torneio',\n",
    "    'city': 'Cidade',\n",
    "    'country': 'País',\n",
    "    'neutral': 'Neutro'\n",
    " \n",
    "}, inplace=True)\n",
    "df_shootouts.rename(columns={\n",
    "    'date': 'Data',\n",
    "    'home_team': 'Time_casa',\n",
    "    'away_team': 'Time_visitante',\n",
    "    'winner': 'Vencedor',\n",
    "    'first_shooter': 'Primeiro_Time_a_chutar_ao_Gol'\n",
    "   \n",
    "}, inplace=True)\n"
   ]
  },
  {
   "cell_type": "code",
   "execution_count": 133,
   "metadata": {},
   "outputs": [
    {
     "name": "stdout",
     "output_type": "stream",
     "text": [
      "Formato de data para df_goals['data']:  %Y-%m-%d\n",
      "Formato de data para df_results['Data']:  %Y-%m-%d\n",
      "Formato de data para df_shootouts['Data']:  %Y-%m-%d\n"
     ]
    }
   ],
   "source": [
    "## Função para verificar o formato de data de uma coluna\n",
    "def verificar_formato_data(df, coluna):\n",
    "    primeiros_valores = df[coluna].head().tolist()\n",
    "    # Tenta inferir o formato da data com base nos primeiros valores\n",
    "    formatos = [\"%Y-%m-%d\", \"%d-%m-%Y\", \"%m-%d-%Y\", \"%Y/%m/%d\", \"%d/%m/%Y\", \"%m/%d/%Y\"]\n",
    "    for formato in formatos:\n",
    "        try:\n",
    "            pd.to_datetime(primeiros_valores, format=formato)\n",
    "            return formato\n",
    "        except ValueError:\n",
    "            continue\n",
    "    return \"Formato não reconhecido\"\n",
    "\n",
    "# Verificar o formato de data para cada coluna\n",
    "print(\"Formato de data para df_goals['data']: \", verificar_formato_data(df_goals, 'Data'))\n",
    "print(\"Formato de data para df_results['Data']: \", verificar_formato_data(df_results, 'Data'))\n",
    "print(\"Formato de data para df_shootouts['Data']: \", verificar_formato_data(df_shootouts, 'Data'))\n"
   ]
  },
  {
   "cell_type": "markdown",
   "metadata": {},
   "source": [
    "### 2. Tratamento de Dados (Conversão para tipos adequados)"
   ]
  },
  {
   "cell_type": "code",
   "execution_count": 137,
   "metadata": {},
   "outputs": [
    {
     "name": "stdout",
     "output_type": "stream",
     "text": [
      "0        02-07-1916\n",
      "1        02-07-1916\n",
      "2        02-07-1916\n",
      "3        02-07-1916\n",
      "4        06-07-1916\n",
      "            ...    \n",
      "44105    10-02-2024\n",
      "44106    10-02-2024\n",
      "44107    11-02-2024\n",
      "44108    11-02-2024\n",
      "44109    11-02-2024\n",
      "Name: Data, Length: 44110, dtype: object\n",
      "0        30-11-1872\n",
      "1        08-03-1873\n",
      "2        07-03-1874\n",
      "3        06-03-1875\n",
      "4        04-03-1876\n",
      "            ...    \n",
      "46284    07-02-2024\n",
      "46285    07-02-2024\n",
      "46286    10-02-2024\n",
      "46287    10-02-2024\n",
      "46288    11-02-2024\n",
      "Name: Data, Length: 46289, dtype: object\n"
     ]
    }
   ],
   "source": [
    "# Tratamento para a coluna 'data' em df_goals\n",
    "df_goals['Data'] = pd.to_datetime(df_goals['Data'], format='%Y-%m-%d').dt.strftime('%d-%m-%Y')\n",
    "\n",
    "# Tratamento para a coluna 'Data' em df_results\n",
    "df_results['Data'] = pd.to_datetime(df_results['Data'], format='%Y-%m-%d').dt.strftime('%d-%m-%Y')\n",
    "\n",
    "# Tratamento para a coluna 'Data' em df_shootouts\n",
    "df_shootouts['Data'] = pd.to_datetime(df_shootouts['Data'], format='%Y-%m-%d').dt.strftime('%d-%m-%Y')\n",
    "\n",
    "# Conversão da coluna 'minuto' para float em df_goals\n",
    "df_goals['minuto'] = df_goals['minuto'].astype(float)\n",
    "\n",
    "# Conversão das colunas 'Gol_emcasa' e 'Gol_fora' para int em df_results\n",
    "df_results['Gol_emcasa'] = df_results['Gol_emcasa'].astype(int)\n",
    "df_results['Gol_fora'] = df_results['Gol_fora'].astype(int)\n",
    "\n",
    "# Imprimir as colunas tratadas\n",
    "print(df_goals['Data'])\n",
    "print(df_results['Data'])\n"
   ]
  },
  {
   "cell_type": "markdown",
   "metadata": {},
   "source": [
    "### 3. Tratamento de Dados (removendo duplicados e NaN)"
   ]
  },
  {
   "cell_type": "code",
   "execution_count": 138,
   "metadata": {},
   "outputs": [],
   "source": [
    "df_goals.dropna(inplace=True)\n",
    "df_results.dropna(inplace=True)\n",
    "df_shootouts.dropna(inplace=True)\n",
    "\n",
    "\n",
    "df_goals.drop_duplicates(inplace=True)\n",
    "df_results.drop_duplicates(inplace=True)\n",
    "df_shootouts.drop_duplicates(inplace=True)\n"
   ]
  },
  {
   "cell_type": "code",
   "execution_count": 139,
   "metadata": {},
   "outputs": [
    {
     "data": {
      "text/plain": [
       "10555"
      ]
     },
     "execution_count": 139,
     "metadata": {},
     "output_type": "execute_result"
    }
   ],
   "source": [
    "df_results[df_results['Gol_emcasa'] == df_results['Gol_fora']].shape[0]"
   ]
  },
  {
   "cell_type": "code",
   "execution_count": 144,
   "metadata": {},
   "outputs": [
    {
     "data": {
      "text/html": [
       "<div>\n",
       "<style scoped>\n",
       "    .dataframe tbody tr th:only-of-type {\n",
       "        vertical-align: middle;\n",
       "    }\n",
       "\n",
       "    .dataframe tbody tr th {\n",
       "        vertical-align: top;\n",
       "    }\n",
       "\n",
       "    .dataframe thead th {\n",
       "        text-align: right;\n",
       "    }\n",
       "</style>\n",
       "<table border=\"1\" class=\"dataframe\">\n",
       "  <thead>\n",
       "    <tr style=\"text-align: right;\">\n",
       "      <th></th>\n",
       "      <th>Data</th>\n",
       "      <th>Time_casa</th>\n",
       "      <th>Time_visitante</th>\n",
       "      <th>Gol_emcasa</th>\n",
       "      <th>Gol_fora</th>\n",
       "      <th>Torneio</th>\n",
       "      <th>Cidade</th>\n",
       "      <th>País</th>\n",
       "      <th>Neutro</th>\n",
       "    </tr>\n",
       "  </thead>\n",
       "  <tbody>\n",
       "    <tr>\n",
       "      <th>0</th>\n",
       "      <td>30-11-1872</td>\n",
       "      <td>Scotland</td>\n",
       "      <td>England</td>\n",
       "      <td>0</td>\n",
       "      <td>0</td>\n",
       "      <td>Friendly</td>\n",
       "      <td>Glasgow</td>\n",
       "      <td>Scotland</td>\n",
       "      <td>False</td>\n",
       "    </tr>\n",
       "    <tr>\n",
       "      <th>1</th>\n",
       "      <td>08-03-1873</td>\n",
       "      <td>England</td>\n",
       "      <td>Scotland</td>\n",
       "      <td>4</td>\n",
       "      <td>2</td>\n",
       "      <td>Friendly</td>\n",
       "      <td>London</td>\n",
       "      <td>England</td>\n",
       "      <td>False</td>\n",
       "    </tr>\n",
       "    <tr>\n",
       "      <th>2</th>\n",
       "      <td>07-03-1874</td>\n",
       "      <td>Scotland</td>\n",
       "      <td>England</td>\n",
       "      <td>2</td>\n",
       "      <td>1</td>\n",
       "      <td>Friendly</td>\n",
       "      <td>Glasgow</td>\n",
       "      <td>Scotland</td>\n",
       "      <td>False</td>\n",
       "    </tr>\n",
       "  </tbody>\n",
       "</table>\n",
       "</div>"
      ],
      "text/plain": [
       "         Data Time_casa Time_visitante  Gol_emcasa  Gol_fora   Torneio  \\\n",
       "0  30-11-1872  Scotland        England           0         0  Friendly   \n",
       "1  08-03-1873   England       Scotland           4         2  Friendly   \n",
       "2  07-03-1874  Scotland        England           2         1  Friendly   \n",
       "\n",
       "    Cidade      País  Neutro  \n",
       "0  Glasgow  Scotland   False  \n",
       "1   London   England   False  \n",
       "2  Glasgow  Scotland   False  "
      ]
     },
     "execution_count": 144,
     "metadata": {},
     "output_type": "execute_result"
    }
   ],
   "source": [
    "##Dataframe tratado\n",
    "df_goals.head(3)"
   ]
  },
  {
   "cell_type": "code",
   "execution_count": 141,
   "metadata": {},
   "outputs": [
    {
     "data": {
      "text/html": [
       "<div>\n",
       "<style scoped>\n",
       "    .dataframe tbody tr th:only-of-type {\n",
       "        vertical-align: middle;\n",
       "    }\n",
       "\n",
       "    .dataframe tbody tr th {\n",
       "        vertical-align: top;\n",
       "    }\n",
       "\n",
       "    .dataframe thead th {\n",
       "        text-align: right;\n",
       "    }\n",
       "</style>\n",
       "<table border=\"1\" class=\"dataframe\">\n",
       "  <thead>\n",
       "    <tr style=\"text-align: right;\">\n",
       "      <th></th>\n",
       "      <th>Data</th>\n",
       "      <th>Time_casa</th>\n",
       "      <th>Time_visitante</th>\n",
       "      <th>Gol_emcasa</th>\n",
       "      <th>Gol_fora</th>\n",
       "      <th>Torneio</th>\n",
       "      <th>Cidade</th>\n",
       "      <th>País</th>\n",
       "      <th>Neutro</th>\n",
       "    </tr>\n",
       "  </thead>\n",
       "  <tbody>\n",
       "    <tr>\n",
       "      <th>0</th>\n",
       "      <td>30-11-1872</td>\n",
       "      <td>Scotland</td>\n",
       "      <td>England</td>\n",
       "      <td>0</td>\n",
       "      <td>0</td>\n",
       "      <td>Friendly</td>\n",
       "      <td>Glasgow</td>\n",
       "      <td>Scotland</td>\n",
       "      <td>False</td>\n",
       "    </tr>\n",
       "    <tr>\n",
       "      <th>1</th>\n",
       "      <td>08-03-1873</td>\n",
       "      <td>England</td>\n",
       "      <td>Scotland</td>\n",
       "      <td>4</td>\n",
       "      <td>2</td>\n",
       "      <td>Friendly</td>\n",
       "      <td>London</td>\n",
       "      <td>England</td>\n",
       "      <td>False</td>\n",
       "    </tr>\n",
       "    <tr>\n",
       "      <th>2</th>\n",
       "      <td>07-03-1874</td>\n",
       "      <td>Scotland</td>\n",
       "      <td>England</td>\n",
       "      <td>2</td>\n",
       "      <td>1</td>\n",
       "      <td>Friendly</td>\n",
       "      <td>Glasgow</td>\n",
       "      <td>Scotland</td>\n",
       "      <td>False</td>\n",
       "    </tr>\n",
       "  </tbody>\n",
       "</table>\n",
       "</div>"
      ],
      "text/plain": [
       "         Data Time_casa Time_visitante  Gol_emcasa  Gol_fora   Torneio  \\\n",
       "0  30-11-1872  Scotland        England           0         0  Friendly   \n",
       "1  08-03-1873   England       Scotland           4         2  Friendly   \n",
       "2  07-03-1874  Scotland        England           2         1  Friendly   \n",
       "\n",
       "    Cidade      País  Neutro  \n",
       "0  Glasgow  Scotland   False  \n",
       "1   London   England   False  \n",
       "2  Glasgow  Scotland   False  "
      ]
     },
     "execution_count": 141,
     "metadata": {},
     "output_type": "execute_result"
    }
   ],
   "source": [
    "##Dataframe tratado\n",
    "df_results.head(3)"
   ]
  },
  {
   "cell_type": "code",
   "execution_count": 142,
   "metadata": {},
   "outputs": [
    {
     "data": {
      "text/html": [
       "<div>\n",
       "<style scoped>\n",
       "    .dataframe tbody tr th:only-of-type {\n",
       "        vertical-align: middle;\n",
       "    }\n",
       "\n",
       "    .dataframe tbody tr th {\n",
       "        vertical-align: top;\n",
       "    }\n",
       "\n",
       "    .dataframe thead th {\n",
       "        text-align: right;\n",
       "    }\n",
       "</style>\n",
       "<table border=\"1\" class=\"dataframe\">\n",
       "  <thead>\n",
       "    <tr style=\"text-align: right;\">\n",
       "      <th></th>\n",
       "      <th>Data</th>\n",
       "      <th>Time_casa</th>\n",
       "      <th>Time_visitante</th>\n",
       "      <th>Vencedor</th>\n",
       "      <th>Primeiro_Time_a_chutar_ao_Gol</th>\n",
       "    </tr>\n",
       "  </thead>\n",
       "  <tbody>\n",
       "    <tr>\n",
       "      <th>26</th>\n",
       "      <td>20-06-1976</td>\n",
       "      <td>Czechoslovakia</td>\n",
       "      <td>Germany</td>\n",
       "      <td>Czechoslovakia</td>\n",
       "      <td>Czechoslovakia</td>\n",
       "    </tr>\n",
       "    <tr>\n",
       "      <th>36</th>\n",
       "      <td>22-05-1979</td>\n",
       "      <td>Argentina</td>\n",
       "      <td>Netherlands</td>\n",
       "      <td>Argentina</td>\n",
       "      <td>Argentina</td>\n",
       "    </tr>\n",
       "    <tr>\n",
       "      <th>40</th>\n",
       "      <td>21-06-1980</td>\n",
       "      <td>Italy</td>\n",
       "      <td>Czechoslovakia</td>\n",
       "      <td>Czechoslovakia</td>\n",
       "      <td>Italy</td>\n",
       "    </tr>\n",
       "  </tbody>\n",
       "</table>\n",
       "</div>"
      ],
      "text/plain": [
       "          Data       Time_casa  Time_visitante        Vencedor  \\\n",
       "26  20-06-1976  Czechoslovakia         Germany  Czechoslovakia   \n",
       "36  22-05-1979       Argentina     Netherlands       Argentina   \n",
       "40  21-06-1980           Italy  Czechoslovakia  Czechoslovakia   \n",
       "\n",
       "   Primeiro_Time_a_chutar_ao_Gol  \n",
       "26                Czechoslovakia  \n",
       "36                     Argentina  \n",
       "40                         Italy  "
      ]
     },
     "execution_count": 142,
     "metadata": {},
     "output_type": "execute_result"
    }
   ],
   "source": [
    "##Dataframe tratado\n",
    "df_shootouts.head(3)"
   ]
  },
  {
   "cell_type": "markdown",
   "metadata": {},
   "source": [
    "## Levantamento de Inferências com base nos Dados:\n",
    "\n",
    "**Questões:**\n",
    "\n",
    "1. Qual é a média de gols marcados por jogo?\n",
    "\n",
    "2. Quem são os 5 maiores artilheiros e quantos gols cada um marcou?\n",
    "\n",
    "3. Qual país sediou o maior número de partidas?\n"
   ]
  },
  {
   "cell_type": "code",
   "execution_count": 145,
   "metadata": {},
   "outputs": [
    {
     "data": {
      "text/html": [
       "<div>\n",
       "<style scoped>\n",
       "    .dataframe tbody tr th:only-of-type {\n",
       "        vertical-align: middle;\n",
       "    }\n",
       "\n",
       "    .dataframe tbody tr th {\n",
       "        vertical-align: top;\n",
       "    }\n",
       "\n",
       "    .dataframe thead th {\n",
       "        text-align: right;\n",
       "    }\n",
       "</style>\n",
       "<table border=\"1\" class=\"dataframe\">\n",
       "  <thead>\n",
       "    <tr style=\"text-align: right;\">\n",
       "      <th></th>\n",
       "      <th>Data</th>\n",
       "      <th>Time_casa</th>\n",
       "      <th>Time_visitante</th>\n",
       "      <th>Gol_emcasa</th>\n",
       "      <th>Gol_fora</th>\n",
       "      <th>Torneio</th>\n",
       "      <th>Cidade</th>\n",
       "      <th>País</th>\n",
       "      <th>Neutro</th>\n",
       "    </tr>\n",
       "  </thead>\n",
       "  <tbody>\n",
       "    <tr>\n",
       "      <th>0</th>\n",
       "      <td>30-11-1872</td>\n",
       "      <td>Scotland</td>\n",
       "      <td>England</td>\n",
       "      <td>0</td>\n",
       "      <td>0</td>\n",
       "      <td>Friendly</td>\n",
       "      <td>Glasgow</td>\n",
       "      <td>Scotland</td>\n",
       "      <td>False</td>\n",
       "    </tr>\n",
       "    <tr>\n",
       "      <th>1</th>\n",
       "      <td>08-03-1873</td>\n",
       "      <td>England</td>\n",
       "      <td>Scotland</td>\n",
       "      <td>4</td>\n",
       "      <td>2</td>\n",
       "      <td>Friendly</td>\n",
       "      <td>London</td>\n",
       "      <td>England</td>\n",
       "      <td>False</td>\n",
       "    </tr>\n",
       "    <tr>\n",
       "      <th>2</th>\n",
       "      <td>07-03-1874</td>\n",
       "      <td>Scotland</td>\n",
       "      <td>England</td>\n",
       "      <td>2</td>\n",
       "      <td>1</td>\n",
       "      <td>Friendly</td>\n",
       "      <td>Glasgow</td>\n",
       "      <td>Scotland</td>\n",
       "      <td>False</td>\n",
       "    </tr>\n",
       "    <tr>\n",
       "      <th>3</th>\n",
       "      <td>06-03-1875</td>\n",
       "      <td>England</td>\n",
       "      <td>Scotland</td>\n",
       "      <td>2</td>\n",
       "      <td>2</td>\n",
       "      <td>Friendly</td>\n",
       "      <td>London</td>\n",
       "      <td>England</td>\n",
       "      <td>False</td>\n",
       "    </tr>\n",
       "    <tr>\n",
       "      <th>4</th>\n",
       "      <td>04-03-1876</td>\n",
       "      <td>Scotland</td>\n",
       "      <td>England</td>\n",
       "      <td>3</td>\n",
       "      <td>0</td>\n",
       "      <td>Friendly</td>\n",
       "      <td>Glasgow</td>\n",
       "      <td>Scotland</td>\n",
       "      <td>False</td>\n",
       "    </tr>\n",
       "    <tr>\n",
       "      <th>...</th>\n",
       "      <td>...</td>\n",
       "      <td>...</td>\n",
       "      <td>...</td>\n",
       "      <td>...</td>\n",
       "      <td>...</td>\n",
       "      <td>...</td>\n",
       "      <td>...</td>\n",
       "      <td>...</td>\n",
       "      <td>...</td>\n",
       "    </tr>\n",
       "    <tr>\n",
       "      <th>46284</th>\n",
       "      <td>07-02-2024</td>\n",
       "      <td>Ivory Coast</td>\n",
       "      <td>DR Congo</td>\n",
       "      <td>1</td>\n",
       "      <td>0</td>\n",
       "      <td>African Cup of Nations</td>\n",
       "      <td>Ebimpé</td>\n",
       "      <td>Ivory Coast</td>\n",
       "      <td>False</td>\n",
       "    </tr>\n",
       "    <tr>\n",
       "      <th>46285</th>\n",
       "      <td>07-02-2024</td>\n",
       "      <td>Nigeria</td>\n",
       "      <td>South Africa</td>\n",
       "      <td>1</td>\n",
       "      <td>1</td>\n",
       "      <td>African Cup of Nations</td>\n",
       "      <td>Bouaké</td>\n",
       "      <td>Ivory Coast</td>\n",
       "      <td>True</td>\n",
       "    </tr>\n",
       "    <tr>\n",
       "      <th>46286</th>\n",
       "      <td>10-02-2024</td>\n",
       "      <td>Qatar</td>\n",
       "      <td>Jordan</td>\n",
       "      <td>3</td>\n",
       "      <td>1</td>\n",
       "      <td>AFC Asian Cup</td>\n",
       "      <td>Lusail</td>\n",
       "      <td>Qatar</td>\n",
       "      <td>False</td>\n",
       "    </tr>\n",
       "    <tr>\n",
       "      <th>46287</th>\n",
       "      <td>10-02-2024</td>\n",
       "      <td>South Africa</td>\n",
       "      <td>DR Congo</td>\n",
       "      <td>0</td>\n",
       "      <td>0</td>\n",
       "      <td>African Cup of Nations</td>\n",
       "      <td>Abidjan</td>\n",
       "      <td>Ivory Coast</td>\n",
       "      <td>True</td>\n",
       "    </tr>\n",
       "    <tr>\n",
       "      <th>46288</th>\n",
       "      <td>11-02-2024</td>\n",
       "      <td>Ivory Coast</td>\n",
       "      <td>Nigeria</td>\n",
       "      <td>2</td>\n",
       "      <td>1</td>\n",
       "      <td>African Cup of Nations</td>\n",
       "      <td>Ebimpé</td>\n",
       "      <td>Ivory Coast</td>\n",
       "      <td>False</td>\n",
       "    </tr>\n",
       "  </tbody>\n",
       "</table>\n",
       "<p>46289 rows × 9 columns</p>\n",
       "</div>"
      ],
      "text/plain": [
       "             Data     Time_casa Time_visitante  Gol_emcasa  Gol_fora  \\\n",
       "0      30-11-1872      Scotland        England           0         0   \n",
       "1      08-03-1873       England       Scotland           4         2   \n",
       "2      07-03-1874      Scotland        England           2         1   \n",
       "3      06-03-1875       England       Scotland           2         2   \n",
       "4      04-03-1876      Scotland        England           3         0   \n",
       "...           ...           ...            ...         ...       ...   \n",
       "46284  07-02-2024   Ivory Coast       DR Congo           1         0   \n",
       "46285  07-02-2024       Nigeria   South Africa           1         1   \n",
       "46286  10-02-2024         Qatar         Jordan           3         1   \n",
       "46287  10-02-2024  South Africa       DR Congo           0         0   \n",
       "46288  11-02-2024   Ivory Coast        Nigeria           2         1   \n",
       "\n",
       "                      Torneio   Cidade         País  Neutro  \n",
       "0                    Friendly  Glasgow     Scotland   False  \n",
       "1                    Friendly   London      England   False  \n",
       "2                    Friendly  Glasgow     Scotland   False  \n",
       "3                    Friendly   London      England   False  \n",
       "4                    Friendly  Glasgow     Scotland   False  \n",
       "...                       ...      ...          ...     ...  \n",
       "46284  African Cup of Nations   Ebimpé  Ivory Coast   False  \n",
       "46285  African Cup of Nations   Bouaké  Ivory Coast    True  \n",
       "46286           AFC Asian Cup   Lusail        Qatar   False  \n",
       "46287  African Cup of Nations  Abidjan  Ivory Coast    True  \n",
       "46288  African Cup of Nations   Ebimpé  Ivory Coast   False  \n",
       "\n",
       "[46289 rows x 9 columns]"
      ]
     },
     "execution_count": 145,
     "metadata": {},
     "output_type": "execute_result"
    }
   ],
   "source": [
    "df_results"
   ]
  },
  {
   "cell_type": "code",
   "execution_count": 146,
   "metadata": {},
   "outputs": [
    {
     "data": {
      "text/plain": [
       "2.9370908855235585"
      ]
     },
     "execution_count": 146,
     "metadata": {},
     "output_type": "execute_result"
    }
   ],
   "source": [
    "(df_results['Gol_emcasa'].sum() + df_results['Gol_fora'].sum()) / df_results.shape[0]"
   ]
  },
  {
   "cell_type": "code",
   "execution_count": 53,
   "metadata": {},
   "outputs": [
    {
     "data": {
      "text/plain": [
       "artilheiro\n",
       "Cristiano Ronaldo     108\n",
       "Robert Lewandowski     61\n",
       "Romelu Lukaku          60\n",
       "Harry Kane             55\n",
       "Lionel Messi           54\n",
       "Name: count, dtype: int64"
      ]
     },
     "execution_count": 53,
     "metadata": {},
     "output_type": "execute_result"
    }
   ],
   "source": [
    "df_goals['artilheiro'].value_counts().head(5)"
   ]
  },
  {
   "cell_type": "code",
   "execution_count": 55,
   "metadata": {},
   "outputs": [
    {
     "data": {
      "text/plain": [
       "'United States'"
      ]
     },
     "execution_count": 55,
     "metadata": {},
     "output_type": "execute_result"
    }
   ],
   "source": [
    "df_results['País'].value_counts().idxmax()"
   ]
  },
  {
   "cell_type": "markdown",
   "metadata": {},
   "source": [
    "Qual o desempenho do brasil em casa e fora ao longo do tempo?"
   ]
  },
  {
   "cell_type": "code",
   "execution_count": 10,
   "metadata": {},
   "outputs": [],
   "source": [
    "brazil_home_games = df_results[df_results['home_team'] == 'Brazil']\n",
    "brazil_away_games = df_results[df_results['away_team'] == 'Brazil']\n",
    "\n",
    "avg_goals_home = brazil_home_games.groupby('date')['home_score'].mean()\n",
    "avg_goals_away = brazil_away_games.groupby('date')['away_score'].mean()"
   ]
  },
  {
   "cell_type": "code",
   "execution_count": 11,
   "metadata": {},
   "outputs": [
    {
     "data": {
      "text/plain": [
       "date\n",
       "1916-07-08    1.0\n",
       "1916-07-12    1.0\n",
       "1917-10-12    5.0\n",
       "1919-05-11    6.0\n",
       "1919-05-18    3.0\n",
       "             ... \n",
       "2023-06-17    4.0\n",
       "2023-06-20    2.0\n",
       "2023-09-08    5.0\n",
       "2023-10-12    1.0\n",
       "2023-11-21    0.0\n",
       "Name: home_score, Length: 597, dtype: float64"
      ]
     },
     "execution_count": 11,
     "metadata": {},
     "output_type": "execute_result"
    }
   ],
   "source": [
    "avg_goals_home"
   ]
  },
  {
   "cell_type": "code",
   "execution_count": 12,
   "metadata": {},
   "outputs": [
    {
     "data": {
      "text/plain": [
       "date\n",
       "1914-09-20    0.0\n",
       "1914-09-27    1.0\n",
       "1916-07-10    1.0\n",
       "1916-07-18    1.0\n",
       "1917-10-03    2.0\n",
       "             ... \n",
       "2022-12-09    1.0\n",
       "2023-03-25    1.0\n",
       "2023-09-12    1.0\n",
       "2023-10-17    0.0\n",
       "2023-11-16    1.0\n",
       "Name: away_score, Length: 432, dtype: float64"
      ]
     },
     "execution_count": 12,
     "metadata": {},
     "output_type": "execute_result"
    }
   ],
   "source": [
    "avg_goals_away"
   ]
  },
  {
   "cell_type": "markdown",
   "metadata": {},
   "source": [
    "Existe uma correlação entre o time que inicia a cobrança de pênaltis e a probabilidade de vitória?"
   ]
  },
  {
   "cell_type": "code",
   "execution_count": 13,
   "metadata": {},
   "outputs": [],
   "source": [
    "first_shooter_counts = df_shootouts['first_shooter'].value_counts()\n",
    "\n",
    "win_rate_by_first_shooter = df_shootouts.groupby('first_shooter')['winner'].apply(lambda x: (x == x.name).mean())"
   ]
  },
  {
   "cell_type": "code",
   "execution_count": 14,
   "metadata": {},
   "outputs": [
    {
     "data": {
      "text/plain": [
       "first_shooter\n",
       "Algeria          1.000000\n",
       "Argentina        0.571429\n",
       "Australia        0.800000\n",
       "Bahrain          1.000000\n",
       "Belgium          1.000000\n",
       "                   ...   \n",
       "United States    0.500000\n",
       "Uruguay          0.571429\n",
       "Uzbekistan       0.000000\n",
       "Vietnam          1.000000\n",
       "Åland            1.000000\n",
       "Name: winner, Length: 77, dtype: float64"
      ]
     },
     "execution_count": 14,
     "metadata": {},
     "output_type": "execute_result"
    }
   ],
   "source": [
    "win_rate_by_first_shooter"
   ]
  },
  {
   "cell_type": "code",
   "execution_count": null,
   "metadata": {},
   "outputs": [],
   "source": []
  }
 ],
 "metadata": {
  "kernelspec": {
   "display_name": "Python 3",
   "language": "python",
   "name": "python3"
  },
  "language_info": {
   "codemirror_mode": {
    "name": "ipython",
    "version": 3
   },
   "file_extension": ".py",
   "mimetype": "text/x-python",
   "name": "python",
   "nbconvert_exporter": "python",
   "pygments_lexer": "ipython3",
   "version": "3.11.8"
  }
 },
 "nbformat": 4,
 "nbformat_minor": 2
}
