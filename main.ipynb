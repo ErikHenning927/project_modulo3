{
 "cells": [
  {
   "cell_type": "markdown",
   "metadata": {},
   "source": [
    "### 1. Imports"
   ]
  },
  {
   "cell_type": "code",
   "execution_count": 2,
   "metadata": {},
   "outputs": [
    {
     "name": "stderr",
     "output_type": "stream",
     "text": [
      "Matplotlib is building the font cache; this may take a moment.\n"
     ]
    }
   ],
   "source": [
    "import pandas as pd\n",
    "import numpy as np\n",
    "import matplotlib.pyplot as plt"
   ]
  },
  {
   "cell_type": "code",
   "execution_count": 8,
   "metadata": {},
   "outputs": [],
   "source": [
    "############### Caminho das Bases ###############\n",
    "goals_scorers = 'https://raw.githubusercontent.com/ErikHenning927/project_modulo3/main/goalscorers.csv'\n",
    "results = 'https://raw.githubusercontent.com/ErikHenning927/project_modulo3/main/results.csv'\n",
    "shootouts = 'https://raw.githubusercontent.com/ErikHenning927/project_modulo3/main/shootouts.csv'\n",
    "\n",
    "############### Lendo as Bases ###############\n",
    "\n",
    "df_goals = pd.read_csv(goals_scorers)\n",
    "df_results = pd.read_csv(results)\n",
    "df_shootouts = pd.read_csv(shootouts)"
   ]
  },
  {
   "cell_type": "markdown",
   "metadata": {},
   "source": [
    "### 2. Renomeando as colunas"
   ]
  },
  {
   "cell_type": "code",
   "execution_count": 4,
   "metadata": {},
   "outputs": [
    {
     "data": {
      "text/html": [
       "<div>\n",
       "<style scoped>\n",
       "    .dataframe tbody tr th:only-of-type {\n",
       "        vertical-align: middle;\n",
       "    }\n",
       "\n",
       "    .dataframe tbody tr th {\n",
       "        vertical-align: top;\n",
       "    }\n",
       "\n",
       "    .dataframe thead th {\n",
       "        text-align: right;\n",
       "    }\n",
       "</style>\n",
       "<table border=\"1\" class=\"dataframe\">\n",
       "  <thead>\n",
       "    <tr style=\"text-align: right;\">\n",
       "      <th></th>\n",
       "      <th>Data</th>\n",
       "      <th>Time_casa</th>\n",
       "      <th>Time_visitante</th>\n",
       "      <th>Vencedor</th>\n",
       "      <th>first_shooter</th>\n",
       "    </tr>\n",
       "  </thead>\n",
       "  <tbody>\n",
       "    <tr>\n",
       "      <th>0</th>\n",
       "      <td>1967-08-22</td>\n",
       "      <td>India</td>\n",
       "      <td>Taiwan</td>\n",
       "      <td>Taiwan</td>\n",
       "      <td>NaN</td>\n",
       "    </tr>\n",
       "    <tr>\n",
       "      <th>1</th>\n",
       "      <td>1971-11-14</td>\n",
       "      <td>South Korea</td>\n",
       "      <td>Vietnam Republic</td>\n",
       "      <td>South Korea</td>\n",
       "      <td>NaN</td>\n",
       "    </tr>\n",
       "    <tr>\n",
       "      <th>2</th>\n",
       "      <td>1972-05-07</td>\n",
       "      <td>South Korea</td>\n",
       "      <td>Iraq</td>\n",
       "      <td>Iraq</td>\n",
       "      <td>NaN</td>\n",
       "    </tr>\n",
       "    <tr>\n",
       "      <th>3</th>\n",
       "      <td>1972-05-17</td>\n",
       "      <td>Thailand</td>\n",
       "      <td>South Korea</td>\n",
       "      <td>South Korea</td>\n",
       "      <td>NaN</td>\n",
       "    </tr>\n",
       "    <tr>\n",
       "      <th>4</th>\n",
       "      <td>1972-05-19</td>\n",
       "      <td>Thailand</td>\n",
       "      <td>Cambodia</td>\n",
       "      <td>Thailand</td>\n",
       "      <td>NaN</td>\n",
       "    </tr>\n",
       "    <tr>\n",
       "      <th>...</th>\n",
       "      <td>...</td>\n",
       "      <td>...</td>\n",
       "      <td>...</td>\n",
       "      <td>...</td>\n",
       "      <td>...</td>\n",
       "    </tr>\n",
       "    <tr>\n",
       "      <th>594</th>\n",
       "      <td>2024-01-30</td>\n",
       "      <td>Saudi Arabia</td>\n",
       "      <td>South Korea</td>\n",
       "      <td>South Korea</td>\n",
       "      <td>Saudi Arabia</td>\n",
       "    </tr>\n",
       "    <tr>\n",
       "      <th>595</th>\n",
       "      <td>2024-01-31</td>\n",
       "      <td>Iran</td>\n",
       "      <td>Syria</td>\n",
       "      <td>Iran</td>\n",
       "      <td>Iran</td>\n",
       "    </tr>\n",
       "    <tr>\n",
       "      <th>596</th>\n",
       "      <td>2024-02-03</td>\n",
       "      <td>Cape Verde</td>\n",
       "      <td>South Africa</td>\n",
       "      <td>South Africa</td>\n",
       "      <td>Cape Verde</td>\n",
       "    </tr>\n",
       "    <tr>\n",
       "      <th>597</th>\n",
       "      <td>2024-02-03</td>\n",
       "      <td>Qatar</td>\n",
       "      <td>Uzbekistan</td>\n",
       "      <td>Qatar</td>\n",
       "      <td>Uzbekistan</td>\n",
       "    </tr>\n",
       "    <tr>\n",
       "      <th>598</th>\n",
       "      <td>2024-02-07</td>\n",
       "      <td>Nigeria</td>\n",
       "      <td>South Africa</td>\n",
       "      <td>Nigeria</td>\n",
       "      <td>Nigeria</td>\n",
       "    </tr>\n",
       "  </tbody>\n",
       "</table>\n",
       "<p>599 rows × 5 columns</p>\n",
       "</div>"
      ],
      "text/plain": [
       "           Data     Time_casa    Time_visitante      Vencedor first_shooter\n",
       "0    1967-08-22         India            Taiwan        Taiwan           NaN\n",
       "1    1971-11-14   South Korea  Vietnam Republic   South Korea           NaN\n",
       "2    1972-05-07   South Korea              Iraq          Iraq           NaN\n",
       "3    1972-05-17      Thailand       South Korea   South Korea           NaN\n",
       "4    1972-05-19      Thailand          Cambodia      Thailand           NaN\n",
       "..          ...           ...               ...           ...           ...\n",
       "594  2024-01-30  Saudi Arabia       South Korea   South Korea  Saudi Arabia\n",
       "595  2024-01-31          Iran             Syria          Iran          Iran\n",
       "596  2024-02-03    Cape Verde      South Africa  South Africa    Cape Verde\n",
       "597  2024-02-03         Qatar        Uzbekistan         Qatar    Uzbekistan\n",
       "598  2024-02-07       Nigeria      South Africa       Nigeria       Nigeria\n",
       "\n",
       "[599 rows x 5 columns]"
      ]
     },
     "execution_count": 4,
     "metadata": {},
     "output_type": "execute_result"
    }
   ],
   "source": [
    "df_goals.rename(columns={\n",
    "    'date': 'data',\n",
    "    'home_team': 'time_casa',\n",
    "    'away_team': 'time_visitante',\n",
    "    'team': 'time',\n",
    "    'scorer': 'artilheiro',\n",
    "    'minute': 'minuto',\n",
    "    'own_goal': 'gol_contra',\n",
    "    'penalty': 'penalti'\n",
    "}, inplace=True)\n",
    "\n",
    "df_results.rename(columns={\n",
    "    'date': 'Data',\n",
    "    'home_team': 'Time_casa',\n",
    "    'away_team': 'Time_visitante',\n",
    "    'home_score': 'Gol_emcasa',\n",
    "    'away_score': 'Gol_fora',\n",
    "    'tournament': 'Torneio',\n",
    "    'city': 'Cidade',\n",
    "    'country': 'País',\n",
    "    'neutral': 'Neutro',\n",
    " \n",
    "}, inplace=True)\n",
    "df_shootouts.rename(columns={\n",
    "    'date': 'Data',\n",
    "    'home_team': 'Time_casa',\n",
    "    'away_team': 'Time_visitante',\n",
    "    'winner': 'Vencedor',\n",
    "   \n",
    "}, inplace=True)\n",
    "\n",
    "df_shootouts\n"
   ]
  },
  {
   "cell_type": "markdown",
   "metadata": {},
   "source": [
    "### 2. Tratamento de Dados (Conversão para tipos adequados)"
   ]
  },
  {
   "cell_type": "code",
   "execution_count": 7,
   "metadata": {},
   "outputs": [
    {
     "ename": "KeyError",
     "evalue": "'data'",
     "output_type": "error",
     "traceback": [
      "\u001b[1;31m---------------------------------------------------------------------------\u001b[0m",
      "\u001b[1;31mKeyError\u001b[0m                                  Traceback (most recent call last)",
      "File \u001b[1;32md:\\Meus Arquivos\\Documentos\\git_projects\\project_modulo3\\.venv\\Lib\\site-packages\\pandas\\core\\indexes\\base.py:3805\u001b[0m, in \u001b[0;36mIndex.get_loc\u001b[1;34m(self, key)\u001b[0m\n\u001b[0;32m   3804\u001b[0m \u001b[38;5;28;01mtry\u001b[39;00m:\n\u001b[1;32m-> 3805\u001b[0m     \u001b[38;5;28;01mreturn\u001b[39;00m \u001b[38;5;28;43mself\u001b[39;49m\u001b[38;5;241;43m.\u001b[39;49m\u001b[43m_engine\u001b[49m\u001b[38;5;241;43m.\u001b[39;49m\u001b[43mget_loc\u001b[49m\u001b[43m(\u001b[49m\u001b[43mcasted_key\u001b[49m\u001b[43m)\u001b[49m\n\u001b[0;32m   3806\u001b[0m \u001b[38;5;28;01mexcept\u001b[39;00m \u001b[38;5;167;01mKeyError\u001b[39;00m \u001b[38;5;28;01mas\u001b[39;00m err:\n",
      "File \u001b[1;32mindex.pyx:167\u001b[0m, in \u001b[0;36mpandas._libs.index.IndexEngine.get_loc\u001b[1;34m()\u001b[0m\n",
      "File \u001b[1;32mindex.pyx:196\u001b[0m, in \u001b[0;36mpandas._libs.index.IndexEngine.get_loc\u001b[1;34m()\u001b[0m\n",
      "File \u001b[1;32mpandas\\\\_libs\\\\hashtable_class_helper.pxi:7081\u001b[0m, in \u001b[0;36mpandas._libs.hashtable.PyObjectHashTable.get_item\u001b[1;34m()\u001b[0m\n",
      "File \u001b[1;32mpandas\\\\_libs\\\\hashtable_class_helper.pxi:7089\u001b[0m, in \u001b[0;36mpandas._libs.hashtable.PyObjectHashTable.get_item\u001b[1;34m()\u001b[0m\n",
      "\u001b[1;31mKeyError\u001b[0m: 'data'",
      "\nThe above exception was the direct cause of the following exception:\n",
      "\u001b[1;31mKeyError\u001b[0m                                  Traceback (most recent call last)",
      "Cell \u001b[1;32mIn[7], line 2\u001b[0m\n\u001b[0;32m      1\u001b[0m \u001b[38;5;66;03m#df_results['date'] = df_1['date'].dt.strftime('%d/%m/%Y')\u001b[39;00m\n\u001b[1;32m----> 2\u001b[0m df_goals[\u001b[38;5;124m'\u001b[39m\u001b[38;5;124mdata\u001b[39m\u001b[38;5;124m'\u001b[39m] \u001b[38;5;241m=\u001b[39m pd\u001b[38;5;241m.\u001b[39mto_datetime(\u001b[43mdf_goals\u001b[49m\u001b[43m[\u001b[49m\u001b[38;5;124;43m'\u001b[39;49m\u001b[38;5;124;43mdata\u001b[39;49m\u001b[38;5;124;43m'\u001b[39;49m\u001b[43m]\u001b[49m, \u001b[38;5;28mformat\u001b[39m\u001b[38;5;241m=\u001b[39m\u001b[38;5;124m'\u001b[39m\u001b[38;5;132;01m%d\u001b[39;00m\u001b[38;5;124m/\u001b[39m\u001b[38;5;124m%\u001b[39m\u001b[38;5;124mm/\u001b[39m\u001b[38;5;124m%\u001b[39m\u001b[38;5;124mY\u001b[39m\u001b[38;5;124m'\u001b[39m)\n\u001b[0;32m      3\u001b[0m df_results[\u001b[38;5;124m'\u001b[39m\u001b[38;5;124mData\u001b[39m\u001b[38;5;124m'\u001b[39m] \u001b[38;5;241m=\u001b[39m pd\u001b[38;5;241m.\u001b[39mto_datetime(df_results[\u001b[38;5;124m'\u001b[39m\u001b[38;5;124mData\u001b[39m\u001b[38;5;124m'\u001b[39m])\n\u001b[0;32m      4\u001b[0m df_shootouts[\u001b[38;5;124m'\u001b[39m\u001b[38;5;124mData\u001b[39m\u001b[38;5;124m'\u001b[39m] \u001b[38;5;241m=\u001b[39m pd\u001b[38;5;241m.\u001b[39mto_datetime(df_shootouts[\u001b[38;5;124m'\u001b[39m\u001b[38;5;124mData\u001b[39m\u001b[38;5;124m'\u001b[39m])\n",
      "File \u001b[1;32md:\\Meus Arquivos\\Documentos\\git_projects\\project_modulo3\\.venv\\Lib\\site-packages\\pandas\\core\\frame.py:4090\u001b[0m, in \u001b[0;36mDataFrame.__getitem__\u001b[1;34m(self, key)\u001b[0m\n\u001b[0;32m   4088\u001b[0m \u001b[38;5;28;01mif\u001b[39;00m \u001b[38;5;28mself\u001b[39m\u001b[38;5;241m.\u001b[39mcolumns\u001b[38;5;241m.\u001b[39mnlevels \u001b[38;5;241m>\u001b[39m \u001b[38;5;241m1\u001b[39m:\n\u001b[0;32m   4089\u001b[0m     \u001b[38;5;28;01mreturn\u001b[39;00m \u001b[38;5;28mself\u001b[39m\u001b[38;5;241m.\u001b[39m_getitem_multilevel(key)\n\u001b[1;32m-> 4090\u001b[0m indexer \u001b[38;5;241m=\u001b[39m \u001b[38;5;28;43mself\u001b[39;49m\u001b[38;5;241;43m.\u001b[39;49m\u001b[43mcolumns\u001b[49m\u001b[38;5;241;43m.\u001b[39;49m\u001b[43mget_loc\u001b[49m\u001b[43m(\u001b[49m\u001b[43mkey\u001b[49m\u001b[43m)\u001b[49m\n\u001b[0;32m   4091\u001b[0m \u001b[38;5;28;01mif\u001b[39;00m is_integer(indexer):\n\u001b[0;32m   4092\u001b[0m     indexer \u001b[38;5;241m=\u001b[39m [indexer]\n",
      "File \u001b[1;32md:\\Meus Arquivos\\Documentos\\git_projects\\project_modulo3\\.venv\\Lib\\site-packages\\pandas\\core\\indexes\\base.py:3812\u001b[0m, in \u001b[0;36mIndex.get_loc\u001b[1;34m(self, key)\u001b[0m\n\u001b[0;32m   3807\u001b[0m     \u001b[38;5;28;01mif\u001b[39;00m \u001b[38;5;28misinstance\u001b[39m(casted_key, \u001b[38;5;28mslice\u001b[39m) \u001b[38;5;129;01mor\u001b[39;00m (\n\u001b[0;32m   3808\u001b[0m         \u001b[38;5;28misinstance\u001b[39m(casted_key, abc\u001b[38;5;241m.\u001b[39mIterable)\n\u001b[0;32m   3809\u001b[0m         \u001b[38;5;129;01mand\u001b[39;00m \u001b[38;5;28many\u001b[39m(\u001b[38;5;28misinstance\u001b[39m(x, \u001b[38;5;28mslice\u001b[39m) \u001b[38;5;28;01mfor\u001b[39;00m x \u001b[38;5;129;01min\u001b[39;00m casted_key)\n\u001b[0;32m   3810\u001b[0m     ):\n\u001b[0;32m   3811\u001b[0m         \u001b[38;5;28;01mraise\u001b[39;00m InvalidIndexError(key)\n\u001b[1;32m-> 3812\u001b[0m     \u001b[38;5;28;01mraise\u001b[39;00m \u001b[38;5;167;01mKeyError\u001b[39;00m(key) \u001b[38;5;28;01mfrom\u001b[39;00m \u001b[38;5;21;01merr\u001b[39;00m\n\u001b[0;32m   3813\u001b[0m \u001b[38;5;28;01mexcept\u001b[39;00m \u001b[38;5;167;01mTypeError\u001b[39;00m:\n\u001b[0;32m   3814\u001b[0m     \u001b[38;5;66;03m# If we have a listlike key, _check_indexing_error will raise\u001b[39;00m\n\u001b[0;32m   3815\u001b[0m     \u001b[38;5;66;03m#  InvalidIndexError. Otherwise we fall through and re-raise\u001b[39;00m\n\u001b[0;32m   3816\u001b[0m     \u001b[38;5;66;03m#  the TypeError.\u001b[39;00m\n\u001b[0;32m   3817\u001b[0m     \u001b[38;5;28mself\u001b[39m\u001b[38;5;241m.\u001b[39m_check_indexing_error(key)\n",
      "\u001b[1;31mKeyError\u001b[0m: 'data'"
     ]
    }
   ],
   "source": [
    "#df_results['date'] = df_1['date'].dt.strftime('%d/%m/%Y')\n",
    "df_goals['data'] = pd.to_datetime(df_goals['data'], format='%d/%m/%Y')\n",
    "df_results['Data'] = pd.to_datetime(df_results['Data'])\n",
    "df_shootouts['Data'] = pd.to_datetime(df_shootouts['Data'])\n",
    "df_goals['minuto'] = df_goals['minuto'].astype(float)\n",
    "df_results['Gol_emcasa'] = df_results['Gol_emcasa'].astype(int)\n",
    "df_results['Gol_fora'] = df_results['Gol_fora'].astype(int)\n",
    "df_results.info()\n",
    "\n",
    "\n",
    "\n"
   ]
  },
  {
   "cell_type": "markdown",
   "metadata": {},
   "source": [
    "### 3. Tratamento de Dados (removendo duplicados e NaN)"
   ]
  },
  {
   "cell_type": "code",
   "execution_count": 44,
   "metadata": {},
   "outputs": [],
   "source": [
    "df_goals.dropna(inplace=True)\n",
    "df_results.dropna(inplace=True)\n",
    "df_shootouts.dropna(inplace=True)\n",
    "\n",
    "\n",
    "df_goals.drop_duplicates(inplace=True)\n",
    "df_results.drop_duplicates(inplace=True)\n",
    "df_shootouts.drop_duplicates(inplace=True)\n"
   ]
  },
  {
   "cell_type": "code",
   "execution_count": 49,
   "metadata": {},
   "outputs": [
    {
     "data": {
      "text/plain": [
       "10061"
      ]
     },
     "execution_count": 49,
     "metadata": {},
     "output_type": "execute_result"
    }
   ],
   "source": [
    "df_results[df_results['Gol_emcasa'] == df_results['Gol_fora']].shape[0]"
   ]
  },
  {
   "cell_type": "markdown",
   "metadata": {},
   "source": [
    "Questões\n",
    "\n",
    "\n",
    "Qual é a média de gols marcados por jogo?\n",
    "\n",
    "\n",
    "\n",
    "Quem são os 5 maiores artilheiros e quantos gols cada um marcou?\n",
    "\n",
    "\n",
    "\n",
    "Qual país sediou o maior número de partidas?\n",
    "\n"
   ]
  },
  {
   "cell_type": "code",
   "execution_count": 52,
   "metadata": {},
   "outputs": [
    {
     "data": {
      "text/html": [
       "<div>\n",
       "<style scoped>\n",
       "    .dataframe tbody tr th:only-of-type {\n",
       "        vertical-align: middle;\n",
       "    }\n",
       "\n",
       "    .dataframe tbody tr th {\n",
       "        vertical-align: top;\n",
       "    }\n",
       "\n",
       "    .dataframe thead th {\n",
       "        text-align: right;\n",
       "    }\n",
       "</style>\n",
       "<table border=\"1\" class=\"dataframe\">\n",
       "  <thead>\n",
       "    <tr style=\"text-align: right;\">\n",
       "      <th></th>\n",
       "      <th>data</th>\n",
       "      <th>time_casa</th>\n",
       "      <th>time_visitante</th>\n",
       "      <th>time</th>\n",
       "      <th>artilheiro</th>\n",
       "      <th>minuto</th>\n",
       "      <th>gol_contra</th>\n",
       "      <th>penalti</th>\n",
       "    </tr>\n",
       "  </thead>\n",
       "  <tbody>\n",
       "    <tr>\n",
       "      <th>0</th>\n",
       "      <td>1916-07-02</td>\n",
       "      <td>Chile</td>\n",
       "      <td>Uruguay</td>\n",
       "      <td>Uruguay</td>\n",
       "      <td>José Piendibene</td>\n",
       "      <td>44.0</td>\n",
       "      <td>False</td>\n",
       "      <td>False</td>\n",
       "    </tr>\n",
       "    <tr>\n",
       "      <th>1</th>\n",
       "      <td>1916-07-02</td>\n",
       "      <td>Chile</td>\n",
       "      <td>Uruguay</td>\n",
       "      <td>Uruguay</td>\n",
       "      <td>Isabelino Gradín</td>\n",
       "      <td>55.0</td>\n",
       "      <td>False</td>\n",
       "      <td>False</td>\n",
       "    </tr>\n",
       "    <tr>\n",
       "      <th>2</th>\n",
       "      <td>1916-07-02</td>\n",
       "      <td>Chile</td>\n",
       "      <td>Uruguay</td>\n",
       "      <td>Uruguay</td>\n",
       "      <td>Isabelino Gradín</td>\n",
       "      <td>70.0</td>\n",
       "      <td>False</td>\n",
       "      <td>False</td>\n",
       "    </tr>\n",
       "    <tr>\n",
       "      <th>3</th>\n",
       "      <td>1916-07-02</td>\n",
       "      <td>Chile</td>\n",
       "      <td>Uruguay</td>\n",
       "      <td>Uruguay</td>\n",
       "      <td>José Piendibene</td>\n",
       "      <td>75.0</td>\n",
       "      <td>False</td>\n",
       "      <td>False</td>\n",
       "    </tr>\n",
       "    <tr>\n",
       "      <th>4</th>\n",
       "      <td>1916-07-06</td>\n",
       "      <td>Argentina</td>\n",
       "      <td>Chile</td>\n",
       "      <td>Argentina</td>\n",
       "      <td>Alberto Ohaco</td>\n",
       "      <td>2.0</td>\n",
       "      <td>False</td>\n",
       "      <td>False</td>\n",
       "    </tr>\n",
       "    <tr>\n",
       "      <th>...</th>\n",
       "      <td>...</td>\n",
       "      <td>...</td>\n",
       "      <td>...</td>\n",
       "      <td>...</td>\n",
       "      <td>...</td>\n",
       "      <td>...</td>\n",
       "      <td>...</td>\n",
       "      <td>...</td>\n",
       "    </tr>\n",
       "    <tr>\n",
       "      <th>44105</th>\n",
       "      <td>2024-02-10</td>\n",
       "      <td>Qatar</td>\n",
       "      <td>Jordan</td>\n",
       "      <td>Qatar</td>\n",
       "      <td>Akram Afif</td>\n",
       "      <td>73.0</td>\n",
       "      <td>False</td>\n",
       "      <td>True</td>\n",
       "    </tr>\n",
       "    <tr>\n",
       "      <th>44106</th>\n",
       "      <td>2024-02-10</td>\n",
       "      <td>Qatar</td>\n",
       "      <td>Jordan</td>\n",
       "      <td>Qatar</td>\n",
       "      <td>Akram Afif</td>\n",
       "      <td>90.0</td>\n",
       "      <td>False</td>\n",
       "      <td>True</td>\n",
       "    </tr>\n",
       "    <tr>\n",
       "      <th>44107</th>\n",
       "      <td>2024-02-11</td>\n",
       "      <td>Ivory Coast</td>\n",
       "      <td>Nigeria</td>\n",
       "      <td>Nigeria</td>\n",
       "      <td>William Troost-Ekong</td>\n",
       "      <td>38.0</td>\n",
       "      <td>False</td>\n",
       "      <td>False</td>\n",
       "    </tr>\n",
       "    <tr>\n",
       "      <th>44108</th>\n",
       "      <td>2024-02-11</td>\n",
       "      <td>Ivory Coast</td>\n",
       "      <td>Nigeria</td>\n",
       "      <td>Ivory Coast</td>\n",
       "      <td>Franck Kessié</td>\n",
       "      <td>62.0</td>\n",
       "      <td>False</td>\n",
       "      <td>False</td>\n",
       "    </tr>\n",
       "    <tr>\n",
       "      <th>44109</th>\n",
       "      <td>2024-02-11</td>\n",
       "      <td>Ivory Coast</td>\n",
       "      <td>Nigeria</td>\n",
       "      <td>Ivory Coast</td>\n",
       "      <td>Sébastien Haller</td>\n",
       "      <td>81.0</td>\n",
       "      <td>False</td>\n",
       "      <td>False</td>\n",
       "    </tr>\n",
       "  </tbody>\n",
       "</table>\n",
       "<p>43800 rows × 8 columns</p>\n",
       "</div>"
      ],
      "text/plain": [
       "            data    time_casa time_visitante         time  \\\n",
       "0     1916-07-02        Chile        Uruguay      Uruguay   \n",
       "1     1916-07-02        Chile        Uruguay      Uruguay   \n",
       "2     1916-07-02        Chile        Uruguay      Uruguay   \n",
       "3     1916-07-02        Chile        Uruguay      Uruguay   \n",
       "4     1916-07-06    Argentina          Chile    Argentina   \n",
       "...          ...          ...            ...          ...   \n",
       "44105 2024-02-10        Qatar         Jordan        Qatar   \n",
       "44106 2024-02-10        Qatar         Jordan        Qatar   \n",
       "44107 2024-02-11  Ivory Coast        Nigeria      Nigeria   \n",
       "44108 2024-02-11  Ivory Coast        Nigeria  Ivory Coast   \n",
       "44109 2024-02-11  Ivory Coast        Nigeria  Ivory Coast   \n",
       "\n",
       "                 artilheiro  minuto gol_contra penalti  \n",
       "0           José Piendibene    44.0      False   False  \n",
       "1          Isabelino Gradín    55.0      False   False  \n",
       "2          Isabelino Gradín    70.0      False   False  \n",
       "3           José Piendibene    75.0      False   False  \n",
       "4             Alberto Ohaco     2.0      False   False  \n",
       "...                     ...     ...        ...     ...  \n",
       "44105            Akram Afif    73.0      False    True  \n",
       "44106            Akram Afif    90.0      False    True  \n",
       "44107  William Troost-Ekong    38.0      False   False  \n",
       "44108         Franck Kessié    62.0      False   False  \n",
       "44109      Sébastien Haller    81.0      False   False  \n",
       "\n",
       "[43800 rows x 8 columns]"
      ]
     },
     "execution_count": 52,
     "metadata": {},
     "output_type": "execute_result"
    }
   ],
   "source": [
    "df_goals"
   ]
  },
  {
   "cell_type": "code",
   "execution_count": 51,
   "metadata": {},
   "outputs": [
    {
     "data": {
      "text/plain": [
       "2.9509181591475855"
      ]
     },
     "execution_count": 51,
     "metadata": {},
     "output_type": "execute_result"
    }
   ],
   "source": [
    "(df_results['Gol_emcasa'].sum() + df_results['Gol_fora'].sum()) / df_results.shape[0]"
   ]
  },
  {
   "cell_type": "code",
   "execution_count": 53,
   "metadata": {},
   "outputs": [
    {
     "data": {
      "text/plain": [
       "artilheiro\n",
       "Cristiano Ronaldo     108\n",
       "Robert Lewandowski     61\n",
       "Romelu Lukaku          60\n",
       "Harry Kane             55\n",
       "Lionel Messi           54\n",
       "Name: count, dtype: int64"
      ]
     },
     "execution_count": 53,
     "metadata": {},
     "output_type": "execute_result"
    }
   ],
   "source": [
    "df_goals['artilheiro'].value_counts().head(5)"
   ]
  },
  {
   "cell_type": "code",
   "execution_count": 55,
   "metadata": {},
   "outputs": [
    {
     "data": {
      "text/plain": [
       "'United States'"
      ]
     },
     "execution_count": 55,
     "metadata": {},
     "output_type": "execute_result"
    }
   ],
   "source": [
    "df_results['País'].value_counts().idxmax()"
   ]
  },
  {
   "cell_type": "markdown",
   "metadata": {},
   "source": [
    "Qual o desempenho do brasil em casa e fora ao longo do tempo?"
   ]
  },
  {
   "cell_type": "code",
   "execution_count": 10,
   "metadata": {},
   "outputs": [],
   "source": [
    "brazil_home_games = df_results[df_results['home_team'] == 'Brazil']\n",
    "brazil_away_games = df_results[df_results['away_team'] == 'Brazil']\n",
    "\n",
    "avg_goals_home = brazil_home_games.groupby('date')['home_score'].mean()\n",
    "avg_goals_away = brazil_away_games.groupby('date')['away_score'].mean()"
   ]
  },
  {
   "cell_type": "code",
   "execution_count": 11,
   "metadata": {},
   "outputs": [
    {
     "data": {
      "text/plain": [
       "date\n",
       "1916-07-08    1.0\n",
       "1916-07-12    1.0\n",
       "1917-10-12    5.0\n",
       "1919-05-11    6.0\n",
       "1919-05-18    3.0\n",
       "             ... \n",
       "2023-06-17    4.0\n",
       "2023-06-20    2.0\n",
       "2023-09-08    5.0\n",
       "2023-10-12    1.0\n",
       "2023-11-21    0.0\n",
       "Name: home_score, Length: 597, dtype: float64"
      ]
     },
     "execution_count": 11,
     "metadata": {},
     "output_type": "execute_result"
    }
   ],
   "source": [
    "avg_goals_home"
   ]
  },
  {
   "cell_type": "code",
   "execution_count": 12,
   "metadata": {},
   "outputs": [
    {
     "data": {
      "text/plain": [
       "date\n",
       "1914-09-20    0.0\n",
       "1914-09-27    1.0\n",
       "1916-07-10    1.0\n",
       "1916-07-18    1.0\n",
       "1917-10-03    2.0\n",
       "             ... \n",
       "2022-12-09    1.0\n",
       "2023-03-25    1.0\n",
       "2023-09-12    1.0\n",
       "2023-10-17    0.0\n",
       "2023-11-16    1.0\n",
       "Name: away_score, Length: 432, dtype: float64"
      ]
     },
     "execution_count": 12,
     "metadata": {},
     "output_type": "execute_result"
    }
   ],
   "source": [
    "avg_goals_away"
   ]
  },
  {
   "cell_type": "markdown",
   "metadata": {},
   "source": [
    "Existe uma correlação entre o time que inicia a cobrança de pênaltis e a probabilidade de vitória?"
   ]
  },
  {
   "cell_type": "code",
   "execution_count": 13,
   "metadata": {},
   "outputs": [],
   "source": [
    "first_shooter_counts = df_shootouts['first_shooter'].value_counts()\n",
    "\n",
    "win_rate_by_first_shooter = df_shootouts.groupby('first_shooter')['winner'].apply(lambda x: (x == x.name).mean())"
   ]
  },
  {
   "cell_type": "code",
   "execution_count": 14,
   "metadata": {},
   "outputs": [
    {
     "data": {
      "text/plain": [
       "first_shooter\n",
       "Algeria          1.000000\n",
       "Argentina        0.571429\n",
       "Australia        0.800000\n",
       "Bahrain          1.000000\n",
       "Belgium          1.000000\n",
       "                   ...   \n",
       "United States    0.500000\n",
       "Uruguay          0.571429\n",
       "Uzbekistan       0.000000\n",
       "Vietnam          1.000000\n",
       "Åland            1.000000\n",
       "Name: winner, Length: 77, dtype: float64"
      ]
     },
     "execution_count": 14,
     "metadata": {},
     "output_type": "execute_result"
    }
   ],
   "source": [
    "win_rate_by_first_shooter"
   ]
  },
  {
   "cell_type": "code",
   "execution_count": null,
   "metadata": {},
   "outputs": [],
   "source": []
  }
 ],
 "metadata": {
  "kernelspec": {
   "display_name": "Python 3",
   "language": "python",
   "name": "python3"
  },
  "language_info": {
   "codemirror_mode": {
    "name": "ipython",
    "version": 3
   },
   "file_extension": ".py",
   "mimetype": "text/x-python",
   "name": "python",
   "nbconvert_exporter": "python",
   "pygments_lexer": "ipython3",
   "version": "3.12.1"
  }
 },
 "nbformat": 4,
 "nbformat_minor": 2
}
