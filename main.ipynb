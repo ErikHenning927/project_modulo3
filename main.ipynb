{
 "cells": [
  {
   "cell_type": "markdown",
   "metadata": {},
   "source": [
    "### 1. Imports"
   ]
  },
  {
   "cell_type": "code",
   "execution_count": 2,
   "metadata": {},
   "outputs": [],
   "source": [
    "import pandas as pd"
   ]
  },
  {
   "cell_type": "code",
   "execution_count": 6,
   "metadata": {},
   "outputs": [],
   "source": [
    "############### Caminho das Bases ###############\n",
    "goals_scorers = 'https://raw.githubusercontent.com/ErikHenning927/project_modulo3/main/goalscorers.csv'\n",
    "results = 'https://raw.githubusercontent.com/ErikHenning927/project_modulo3/main/results.csv'\n",
    "shootouts = 'https://raw.githubusercontent.com/ErikHenning927/project_modulo3/main/shootouts.csv'\n",
    "\n",
    "############### Lendo as Bases ###############\n",
    "\n",
    "df_1 = pd.read_csv(goals_scorers)\n",
    "df_2 = pd.read_csv(results)\n",
    "df_3 = pd.read_csv(shootouts)"
   ]
  },
  {
   "cell_type": "markdown",
   "metadata": {},
   "source": [
    "### 2. Tratamento de Dados"
   ]
  },
  {
   "cell_type": "code",
   "execution_count": 7,
   "metadata": {},
   "outputs": [
    {
     "name": "stdout",
     "output_type": "stream",
     "text": [
      "<class 'pandas.core.frame.DataFrame'>\n",
      "RangeIndex: 44110 entries, 0 to 44109\n",
      "Data columns (total 8 columns):\n",
      " #   Column     Non-Null Count  Dtype  \n",
      "---  ------     --------------  -----  \n",
      " 0   date       44110 non-null  object \n",
      " 1   home_team  44110 non-null  object \n",
      " 2   away_team  44110 non-null  object \n",
      " 3   team       44110 non-null  object \n",
      " 4   scorer     44060 non-null  object \n",
      " 5   minute     43847 non-null  float64\n",
      " 6   own_goal   44108 non-null  object \n",
      " 7   penalty    44108 non-null  object \n",
      "dtypes: float64(1), object(7)\n",
      "memory usage: 2.7+ MB\n",
      "None\n",
      "         date  home_team away_team       team            scorer  minute  \\\n",
      "0  02/07/1916      Chile   Uruguay    Uruguay   José Piendibene    44.0   \n",
      "1  02/07/1916      Chile   Uruguay    Uruguay  Isabelino Gradín    55.0   \n",
      "2  02/07/1916      Chile   Uruguay    Uruguay  Isabelino Gradín    70.0   \n",
      "3  02/07/1916      Chile   Uruguay    Uruguay   José Piendibene    75.0   \n",
      "4  06/07/1916  Argentina     Chile  Argentina     Alberto Ohaco     2.0   \n",
      "\n",
      "  own_goal penalty  \n",
      "0    False   False  \n",
      "1    False   False  \n",
      "2    False   False  \n",
      "3    False   False  \n",
      "4    False   False  \n"
     ]
    }
   ],
   "source": [
    "############### Tratamento dos Dados ###############\n",
    "df_1['date'] = pd.to_datetime(df_1['date'])\n",
    "df_1['date'] = df_1['date'].dt.strftime('%d/%m/%Y')\n",
    "print(df_1.info())\n",
    "print(df_1.head())"
   ]
  }
 ],
 "metadata": {
  "kernelspec": {
   "display_name": "Python 3",
   "language": "python",
   "name": "python3"
  },
  "language_info": {
   "codemirror_mode": {
    "name": "ipython",
    "version": 3
   },
   "file_extension": ".py",
   "mimetype": "text/x-python",
   "name": "python",
   "nbconvert_exporter": "python",
   "pygments_lexer": "ipython3",
   "version": "3.11.8"
  }
 },
 "nbformat": 4,
 "nbformat_minor": 2
}
